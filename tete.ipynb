{
 "cells": [
  {
   "cell_type": "code",
   "execution_count": 29,
   "metadata": {},
   "outputs": [],
   "source": [
    "import torch\n",
    "import numpy as np\n",
    "import os\n",
    "from glob import glob\n",
    "import cv2\n",
    "import torch.nn as nn\n",
    "from torch import optim\n",
    "import torch.nn.functional as F\n",
    "from torchvision import datasets, transforms\n",
    "import torchvision.models as models"
   ]
  },
  {
   "cell_type": "code",
   "execution_count": null,
   "metadata": {},
   "outputs": [],
   "source": []
  },
  {
   "cell_type": "code",
   "execution_count": 30,
   "metadata": {},
   "outputs": [],
   "source": [
    "from PIL import Image\n",
    "from PIL import ImageFile\n",
    "ImageFile.LOAD_TRUNCATED_IMAGES = True"
   ]
  },
  {
   "cell_type": "code",
   "execution_count": 31,
   "metadata": {},
   "outputs": [],
   "source": [
    "model_transfer = models.resnet50(pretrained=True)"
   ]
  },
  {
   "cell_type": "code",
   "execution_count": 32,
   "metadata": {},
   "outputs": [],
   "source": [
    "for param in model_transfer.parameters():\n",
    "    param.requires_grad = False\n",
    "model_transfer.fc = nn.Linear(2048, 133, bias=True)\n",
    "fc_parameters = model_transfer.fc.parameters()\n",
    "for param in fc_parameters:\n",
    "    param.requires_grad = True"
   ]
  },
  {
   "cell_type": "code",
   "execution_count": 33,
   "metadata": {},
   "outputs": [
    {
     "data": {
      "text/plain": [
       "<All keys matched successfully>"
      ]
     },
     "execution_count": 33,
     "metadata": {},
     "output_type": "execute_result"
    }
   ],
   "source": [
    "model_transfer.load_state_dict(torch.load('saved_models/model_transfer.pt'))"
   ]
  },
  {
   "cell_type": "code",
   "execution_count": 34,
   "metadata": {},
   "outputs": [],
   "source": [
    "data_dir = '/Users/bjoh1/python/capst/body/'\n",
    "train_dir = os.path.join(data_dir, 'train/')\n",
    "valid_dir = os.path.join(data_dir, 'valid/')\n",
    "test_dir = os.path.join(data_dir, 'test/')\n",
    "batch_size = 20\n",
    "num_workers = 0\n",
    "\n",
    "\n",
    "\n",
    "standard_normalization = transforms.Normalize(mean=[0.485, 0.456, 0.406],\n",
    "                                              std=[0.229, 0.224, 0.225])\n",
    "data_transforms = {'train': transforms.Compose([transforms.RandomResizedCrop(224),\n",
    "                                     transforms.RandomHorizontalFlip(),\n",
    "                                     transforms.ToTensor(),\n",
    "                                     standard_normalization]),\n",
    "                   'val': transforms.Compose([transforms.Resize(256),\n",
    "                                     transforms.CenterCrop(224),\n",
    "                                     transforms.ToTensor(),\n",
    "                                     standard_normalization]),\n",
    "                   'test': transforms.Compose([transforms.Resize(size=(224,224)),\n",
    "                                     transforms.ToTensor(), \n",
    "                                     standard_normalization])\n",
    "                  }\n",
    "\n",
    "train_data = datasets.ImageFolder(train_dir, transform=data_transforms['train'])\n",
    "valid_data = datasets.ImageFolder(valid_dir, transform=data_transforms['val'])\n",
    "test_data = datasets.ImageFolder(test_dir, transform=data_transforms['test'])\n",
    "\n",
    "\n",
    "train_loader = torch.utils.data.DataLoader(train_data,\n",
    "                                           batch_size=batch_size, \n",
    "                                           num_workers=num_workers,\n",
    "                                           shuffle=True)\n",
    "valid_loader = torch.utils.data.DataLoader(valid_data,\n",
    "                                           batch_size=batch_size, \n",
    "                                           num_workers=num_workers,\n",
    "                                           shuffle=False)\n",
    "test_loader = torch.utils.data.DataLoader(test_data,\n",
    "                                           batch_size=batch_size, \n",
    "                                           num_workers=num_workers,\n",
    "                                           shuffle=False)\n",
    "loaders_scratch = {\n",
    "    'train': train_loader,\n",
    "    'valid': valid_loader,\n",
    "    'test': test_loader\n",
    "}\n",
    "loaders_transfer = loaders_scratch.copy()\n",
    "\n",
    "class_names = [item[4:].replace(\"_\", \" \") for item in loaders_transfer['train'].dataset.classes]"
   ]
  },
  {
   "cell_type": "code",
   "execution_count": 35,
   "metadata": {},
   "outputs": [],
   "source": [
    "def load_input_image(img_path):    \n",
    "    image = Image.open(img_path).convert('RGB')\n",
    "    prediction_transform = transforms.Compose([transforms.Resize(size=(224, 224)),\n",
    "                                     transforms.ToTensor(), \n",
    "                                     standard_normalization])\n",
    "\n",
    "    # discard the transparent, alpha channel (that's the :3) and add the batch dimension\n",
    "    image = prediction_transform(image)[:3,:,:].unsqueeze(0)\n",
    "    return image"
   ]
  },
  {
   "cell_type": "code",
   "execution_count": 36,
   "metadata": {},
   "outputs": [],
   "source": [
    "def body(model, class_names, img_path):\n",
    "    # load the image and return the predicted breed\n",
    "    img = load_input_image(img_path)\n",
    "    model = model.cpu()\n",
    "    model.eval()\n",
    "    idx = torch.argmax(model(img))\n",
    "    return class_names[idx]"
   ]
  },
  {
   "cell_type": "code",
   "execution_count": 37,
   "metadata": {},
   "outputs": [
    {
     "name": "stdout",
     "output_type": "stream",
     "text": [
      "image_file_name: ./images\\하체비만50.jpg, \t predition breed: rwoman\n"
     ]
    }
   ],
   "source": [
    "for img_file in os.listdir('./images'):\n",
    "    img_path = os.path.join('./images', img_file)\n",
    "    predition = body(model_transfer, class_names, img_path)\n",
    "    print(\"image_file_name: {0}, \\t predition breed: {1}\".format(img_path, predition))"
   ]
  },
  {
   "cell_type": "code",
   "execution_count": null,
   "metadata": {},
   "outputs": [],
   "source": []
  }
 ],
 "metadata": {
  "kernelspec": {
   "display_name": "Python 3",
   "language": "python",
   "name": "python3"
  },
  "language_info": {
   "codemirror_mode": {
    "name": "ipython",
    "version": 3
   },
   "file_extension": ".py",
   "mimetype": "text/x-python",
   "name": "python",
   "nbconvert_exporter": "python",
   "pygments_lexer": "ipython3",
   "version": "3.7.6"
  }
 },
 "nbformat": 4,
 "nbformat_minor": 4
}
