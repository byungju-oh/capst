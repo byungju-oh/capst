{
 "cells": [
  {
   "cell_type": "code",
   "execution_count": 2,
   "metadata": {},
   "outputs": [
    {
     "name": "stdout",
     "output_type": "stream",
     "text": [
      " * Serving Flask app \"__main__\" (lazy loading)\n",
      " * Environment: production\n",
      "   WARNING: This is a development server. Do not use it in a production deployment.\n",
      "   Use a production WSGI server instead.\n",
      " * Debug mode: on\n"
     ]
    },
    {
     "name": "stderr",
     "output_type": "stream",
     "text": [
      " * Restarting with stat\n"
     ]
    },
    {
     "ename": "SystemExit",
     "evalue": "1",
     "output_type": "error",
     "traceback": [
      "An exception has occurred, use %tb to see the full traceback.\n",
      "\u001b[1;31mSystemExit\u001b[0m\u001b[1;31m:\u001b[0m 1\n"
     ]
    },
    {
     "name": "stderr",
     "output_type": "stream",
     "text": [
      "E:\\py\\lib\\site-packages\\IPython\\core\\interactiveshell.py:3339: UserWarning: To exit: use 'exit', 'quit', or Ctrl-D.\n",
      "  warn(\"To exit: use 'exit', 'quit', or Ctrl-D.\", stacklevel=1)\n"
     ]
    }
   ],
   "source": [
    "# html entype속성을 multipart/form-data로 지정해야 파이썬 리퀘스트를 이요한 전달을 사용가능하다\n",
    "\n",
    "\n",
    "\n",
    "from flask import Flask, render_template,  send_file\n",
    "#파일 업로드\n",
    "from flask import request\n",
    "#파일이름 보호\n",
    "from werkzeug.utils import secure_filename\n",
    "import os\n",
    "app = Flask(__name__)\n",
    "#파일 업로드 용량 제한 단위:바이트\n",
    "#최대 용량 16mb\n",
    "#app.config['MAX_CONTENT_LENGTH'] = 16 * 1024 * 1024\n",
    "\n",
    "\"\"\"@app.errorhandler(404)\n",
    "def page_not_found(error):\n",
    "\tapp.logger.error(error)\n",
    "\treturn render_template('page_not_found.html'), 404\"\"\"\n",
    "\n",
    "#HTML 렌더링\n",
    "@app.route('/')\n",
    "def home_page():\n",
    "\treturn render_template('home.html')\n",
    "#파일 리스트\n",
    "# uploads 폴더에 파일 저장한다\n",
    "@app.route('/list')\n",
    "def file():\n",
    "    file_list = os.listdir(\"./uploads\")\n",
    "    html= \"\"\"<center><a href=\"/\">홈페이지</a><br><br>\"\"\"\n",
    "    html+=\"file_list:{}\".format(file_list)+\"</center>\"\n",
    "    return html\n",
    "\n",
    "#업로드 HTML 렌더링\n",
    "@app.route('/upload')\n",
    "def upload_page():\n",
    "\treturn render_template('upload.html')\n",
    "\n",
    "#파일 업로드 처리\n",
    "@app.route('/fileUpload', methods = ['GET', 'POST'])\n",
    "def upload_file():\n",
    "\tif request.method == 'POST':\n",
    "        # 업로드페이지에서 post 형식으로 넘어오면 requests객체에 file이름으로 전송된\n",
    "        #파일을 가져온다\n",
    "\t\tf = request.files['file']\n",
    "\t\t#저장할 경로 + 파일명  secure는 파일 이름 보호하는 효과\n",
    "\t\tf.save('./uploads/' + secure_filename(f.filename))\n",
    "\t\tfiles = os.listdir(\"./uploads\")\n",
    "\t\treturn render_template('check.html')\n",
    "\n",
    "#다운로드 HTML 렌더링\n",
    "@app.route('/downfile')\n",
    "def down_page():\n",
    "\tfiles = os.listdir(\"./uploads\")\n",
    "\treturn render_template('filedown.html',files=files)\n",
    "\n",
    "#파일 다운로드 처리\n",
    "@app.route('/fileDown', methods = ['GET', 'POST'])\n",
    "def down_file():\n",
    "\tif request.method == 'POST':\n",
    "\t\tsw=0\n",
    "\t\tfiles = os.listdir(\"./uploads\")\n",
    "\t\tfor x in files:\n",
    "\t\t\tif(x==request.form['file']):\n",
    "\t\t\t\tsw=1\n",
    "\n",
    "\t\tpath = \"./uploads/\"\n",
    "\t\treturn send_file(path + request.form['file'],\n",
    "\t\t\t\tattachment_filename = request.form['file'],\n",
    "\t\t\t\tas_attachment=True)\n",
    "\n",
    "if __name__ == '__main__':\n",
    "\t#서버 실행\n",
    "\tapp.run(host='0.0.0.0',port=8080, debug = True)"
   ]
  },
  {
   "cell_type": "code",
   "execution_count": 3,
   "metadata": {},
   "outputs": [],
   "source": [
    "exit"
   ]
  },
  {
   "cell_type": "code",
   "execution_count": null,
   "metadata": {},
   "outputs": [],
   "source": []
  }
 ],
 "metadata": {
  "kernelspec": {
   "display_name": "Python 3",
   "language": "python",
   "name": "python3"
  },
  "language_info": {
   "codemirror_mode": {
    "name": "ipython",
    "version": 3
   },
   "file_extension": ".py",
   "mimetype": "text/x-python",
   "name": "python",
   "nbconvert_exporter": "python",
   "pygments_lexer": "ipython3",
   "version": "3.7.6"
  }
 },
 "nbformat": 4,
 "nbformat_minor": 4
}
